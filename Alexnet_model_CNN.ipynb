{
  "nbformat": 4,
  "nbformat_minor": 0,
  "metadata": {
    "colab": {
      "name": "Alexnet model CNN",
      "provenance": [],
      "collapsed_sections": [],
      "authorship_tag": "ABX9TyOnAnXleEmtZy1pkTVf8ojG",
      "include_colab_link": true
    },
    "kernelspec": {
      "name": "python3",
      "display_name": "Python 3"
    },
    "language_info": {
      "name": "python"
    }
  },
  "cells": [
    {
      "cell_type": "markdown",
      "metadata": {
        "id": "view-in-github",
        "colab_type": "text"
      },
      "source": [
        "<a href=\"https://colab.research.google.com/github/Gilgamesh60/Alexnet_CNN_CIFAR10/blob/main/Alexnet_model_CNN.ipynb\" target=\"_parent\"><img src=\"https://colab.research.google.com/assets/colab-badge.svg\" alt=\"Open In Colab\"/></a>"
      ]
    },
    {
      "cell_type": "code",
      "execution_count": 27,
      "metadata": {
        "id": "4X-8qwaAZZ7V"
      },
      "outputs": [],
      "source": [
        "import torch\n",
        "import torch.nn as nn\n",
        "import torch.nn.functional as F\n",
        "import torchvision\n",
        "import torchvision.transforms as transforms"
      ]
    },
    {
      "cell_type": "code",
      "source": [
        "mean=(0.49139968,0.48215827,0.44653124)\n",
        "std=(0.24703233,0.24348505,0.26158768)\n",
        "transformer=transforms.Compose([transforms.ToTensor(),transforms.Normalize(torch.Tensor(mean),torch.Tensor(std))])\n",
        "\n",
        "train_dataset = torchvision.datasets.CIFAR10(root = './data', train = True, download = True, transform = transformer)\n",
        "\n",
        "test_dataset = torchvision.datasets.CIFAR10(root = './data', train = False, download = True, transform = transformer)\n",
        "\n",
        "train_set=torch.utils.data.DataLoader(train_dataset,shuffle=True,batch_size=128)\n",
        "test_set=torch.utils.data.DataLoader(test_dataset,shuffle=True,batch_size=128)"
      ],
      "metadata": {
        "colab": {
          "base_uri": "https://localhost:8080/"
        },
        "id": "5Y1HyJreJfSB",
        "outputId": "e0b7f8c7-d992-42c9-a002-b143f6f4aca6"
      },
      "execution_count": 28,
      "outputs": [
        {
          "output_type": "stream",
          "name": "stdout",
          "text": [
            "Files already downloaded and verified\n",
            "Files already downloaded and verified\n"
          ]
        }
      ]
    },
    {
      "cell_type": "code",
      "source": [
        "from torch.nn.modules.pooling import MaxPool2d\n",
        "from torch.nn.modules.conv import Conv2d\n",
        "from torch.nn.modules.activation import ReLU\n",
        "classes = ['airplane', 'automobile', 'bird', 'cat', 'deer',\n",
        "           'dog', 'frog', 'horse', 'ship', 'truck']\n",
        "\n",
        "class AlexNet(nn.Module):\n",
        "    def __init__(self):\n",
        "        super(AlexNet, self).__init__()\n",
        "        self.conv1 = nn.Conv2d(in_channels=3, out_channels= 96, kernel_size= 7, stride=2, padding=2 )\n",
        "        self.maxpool = nn.MaxPool2d(kernel_size=3, stride=2)\n",
        "        self.conv2 = nn.Conv2d(in_channels=96, out_channels=256, kernel_size=5, stride= 1, padding= 2)\n",
        "        self.conv3 = nn.Conv2d(in_channels=256, out_channels=384, kernel_size=3, stride= 1, padding= 1)\n",
        "        self.conv4 = nn.Conv2d(in_channels=384, out_channels=384, kernel_size=3, stride=1, padding=1)\n",
        "        self.conv5 = nn.Conv2d(in_channels=384, out_channels=256, kernel_size=3, stride=1, padding=1)\n",
        "        self.fc1  = nn.Linear(in_features= 256*3*3, out_features= 1024)\n",
        "        self.fc2  = nn.Linear(in_features= 1024, out_features= 512)\n",
        "        self.fc3 = nn.Linear(in_features=512 , out_features=10)\n",
        "\n",
        "\n",
        "    def forward(self,x):\n",
        "        x = F.relu(self.conv1(x))\n",
        "        x = self.maxpool(x)\n",
        "        x = F.relu(self.conv2(x))\n",
        "        x = self.maxpool(x)\n",
        "        x = F.relu(self.conv3(x))\n",
        "        x = F.relu(self.conv4(x))\n",
        "        x = F.relu(self.conv5(x))\n",
        "        x = x.reshape(x.shape[0], -1)\n",
        "        x = F.relu(self.fc1(x))\n",
        "        x = F.relu(self.fc2(x))\n",
        "        x = self.fc3(x)\n",
        "        return x"
      ],
      "metadata": {
        "id": "PWw_q5Axj2Vf"
      },
      "execution_count": 42,
      "outputs": []
    },
    {
      "cell_type": "code",
      "source": [
        "from torch.nn.modules.container import ModuleList\n",
        "from torch import optim\n",
        "#training the model\n",
        "device=torch.device('cuda' if torch.cuda.is_available() else 'cpu')\n",
        "model=AlexNet()\n",
        "model=model.to(device=device)\n",
        "\n",
        "learning_rate=1e-4\n",
        "load_model=True\n",
        "epochs=20\n",
        "loss_function = nn.CrossEntropyLoss()\n",
        "optimizer =optim.Adam(params= model.parameters(),lr=learning_rate)\n",
        "\n",
        "for epoch in range(epochs):\n",
        "    \n",
        "    for image, label in train_set:\n",
        "        image = image.to(device)\n",
        "        label = label.to(device)\n",
        "\n",
        "        output = model(image)\n",
        "\n",
        "        loss = loss_function(output,label)\n",
        "\n",
        "        optimizer.zero_grad()\n",
        "\n",
        "        loss.backward()\n",
        "\n",
        "        optimizer.step()\n",
        "    \n",
        "    print(f'Epoch {epoch+1}/{epochs}: Training Loss: {loss.item()}')\n",
        "\n",
        "\n",
        "print(\"Training of alexNet model successfully completed!\")"
      ],
      "metadata": {
        "colab": {
          "base_uri": "https://localhost:8080/"
        },
        "id": "SDurui3VLQST",
        "outputId": "49f32314-bf39-4279-d808-243e8fefd1d6"
      },
      "execution_count": 44,
      "outputs": [
        {
          "output_type": "stream",
          "name": "stdout",
          "text": [
            "Epoch 1/20: Training Loss: 1.5058481693267822\n",
            "Epoch 2/20: Training Loss: 1.2421005964279175\n",
            "Epoch 3/20: Training Loss: 1.0785176753997803\n",
            "Epoch 4/20: Training Loss: 0.8885512351989746\n",
            "Epoch 5/20: Training Loss: 0.7404189705848694\n",
            "Epoch 6/20: Training Loss: 0.6424452662467957\n",
            "Epoch 7/20: Training Loss: 0.6696251630783081\n",
            "Epoch 8/20: Training Loss: 0.6983970999717712\n",
            "Epoch 9/20: Training Loss: 0.6608685255050659\n",
            "Epoch 10/20: Training Loss: 0.6649959087371826\n",
            "Epoch 11/20: Training Loss: 0.4316275715827942\n",
            "Epoch 12/20: Training Loss: 0.31155887246131897\n",
            "Epoch 13/20: Training Loss: 0.24236683547496796\n",
            "Epoch 14/20: Training Loss: 0.4039763808250427\n",
            "Epoch 15/20: Training Loss: 0.2936595380306244\n",
            "Epoch 16/20: Training Loss: 0.23694773018360138\n",
            "Epoch 17/20: Training Loss: 0.08385704457759857\n",
            "Epoch 18/20: Training Loss: 0.24220497906208038\n",
            "Epoch 19/20: Training Loss: 0.18192777037620544\n",
            "Epoch 20/20: Training Loss: 0.12378142774105072\n",
            "Training of alexNet model successfully completed!\n"
          ]
        }
      ]
    },
    {
      "cell_type": "code",
      "source": [
        "correct=0\n",
        "incorrect=0\n",
        "\n",
        "with torch.no_grad():\n",
        "  for image,label in test_set:\n",
        "      image = image.to(device)\n",
        "      label = label.to(device)\n",
        "\n",
        "      output = model(image)\n",
        "      temp,pred=torch.max(output,1)\n",
        "      correct+= (pred==label).sum().item()\n",
        "      incorrect+= (pred!=label).sum().item()\n",
        "\n",
        "      model_accuracy =(correct/(correct+incorrect))*100\n",
        "  \n",
        "  \n",
        "  \n",
        "print(\"The model accuracy is :\",model_accuracy,\"%\",sep=\" \")\n"
      ],
      "metadata": {
        "colab": {
          "base_uri": "https://localhost:8080/"
        },
        "id": "UKI5oWSE8hz2",
        "outputId": "b38d942f-263a-4e1e-b45e-4730bd89b07d"
      },
      "execution_count": 50,
      "outputs": [
        {
          "output_type": "stream",
          "name": "stdout",
          "text": [
            "The model accuracy is : 71.87 %\n"
          ]
        }
      ]
    }
  ]
}